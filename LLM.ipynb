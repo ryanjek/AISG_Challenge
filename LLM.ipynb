{
 "cells": [
  {
   "cell_type": "code",
   "execution_count": 8,
   "metadata": {},
   "outputs": [],
   "source": [
    "import os\n",
    "import time\n",
    "import pandas as pd\n",
    "import whisper\n",
    "import subprocess\n",
    "from transformers import BlipProcessor, BlipForConditionalGeneration\n",
    "from PIL import Image\n",
    "import cv2"
   ]
  },
  {
   "cell_type": "code",
   "execution_count": 2,
   "metadata": {},
   "outputs": [
    {
     "name": "stderr",
     "output_type": "stream",
     "text": [
      "/Users/ryan/Documents/GitHub/AISG_Challenge/venv/lib/python3.12/site-packages/tqdm/auto.py:21: TqdmWarning: IProgress not found. Please update jupyter and ipywidgets. See https://ipywidgets.readthedocs.io/en/stable/user_install.html\n",
      "  from .autonotebook import tqdm as notebook_tqdm\n"
     ]
    }
   ],
   "source": [
    "df = pd.read_parquet(\"hf://datasets/lmms-lab/AISG_Challenge/data/test-00000-of-00001.parquet\")"
   ]
  },
  {
   "cell_type": "code",
   "execution_count": 4,
   "metadata": {},
   "outputs": [
    {
     "data": {
      "text/html": [
       "<div>\n",
       "<style scoped>\n",
       "    .dataframe tbody tr th:only-of-type {\n",
       "        vertical-align: middle;\n",
       "    }\n",
       "\n",
       "    .dataframe tbody tr th {\n",
       "        vertical-align: top;\n",
       "    }\n",
       "\n",
       "    .dataframe thead th {\n",
       "        text-align: right;\n",
       "    }\n",
       "</style>\n",
       "<table border=\"1\" class=\"dataframe\">\n",
       "  <thead>\n",
       "    <tr style=\"text-align: right;\">\n",
       "      <th></th>\n",
       "      <th>qid</th>\n",
       "      <th>video_id</th>\n",
       "      <th>question_type</th>\n",
       "      <th>capability</th>\n",
       "      <th>question</th>\n",
       "      <th>duration</th>\n",
       "      <th>question_prompt</th>\n",
       "      <th>answer</th>\n",
       "      <th>youtube_url</th>\n",
       "    </tr>\n",
       "  </thead>\n",
       "  <tbody>\n",
       "    <tr>\n",
       "      <th>0</th>\n",
       "      <td>0008-0</td>\n",
       "      <td>sj81PWrerDk</td>\n",
       "      <td>Primary Open-ended Question</td>\n",
       "      <td>Plot Attribute (Montage)</td>\n",
       "      <td>What is the difference between the action of t...</td>\n",
       "      <td>8.85</td>\n",
       "      <td>Please state your answer with a brief explanat...</td>\n",
       "      <td></td>\n",
       "      <td>https://www.youtube.com/shorts/sj81PWrerDk</td>\n",
       "    </tr>\n",
       "    <tr>\n",
       "      <th>1</th>\n",
       "      <td>0008-1</td>\n",
       "      <td>sj81PWrerDk</td>\n",
       "      <td>Paraphrased Open-ended Question</td>\n",
       "      <td>Plot Attribute (Montage)</td>\n",
       "      <td>Can you describe how the actions of the last p...</td>\n",
       "      <td>8.85</td>\n",
       "      <td>Please state your answer with a brief explanat...</td>\n",
       "      <td></td>\n",
       "      <td>https://www.youtube.com/shorts/sj81PWrerDk</td>\n",
       "    </tr>\n",
       "    <tr>\n",
       "      <th>2</th>\n",
       "      <td>0008-2</td>\n",
       "      <td>sj81PWrerDk</td>\n",
       "      <td>Correctly-led Open-ended Question</td>\n",
       "      <td>Plot Attribute (Montage)</td>\n",
       "      <td>Did the last person open the bottle without us...</td>\n",
       "      <td>8.85</td>\n",
       "      <td>Please state your answer with a brief explanat...</td>\n",
       "      <td></td>\n",
       "      <td>https://www.youtube.com/shorts/sj81PWrerDk</td>\n",
       "    </tr>\n",
       "    <tr>\n",
       "      <th>3</th>\n",
       "      <td>0008-3</td>\n",
       "      <td>sj81PWrerDk</td>\n",
       "      <td>Wrongly-led Open-ended Question</td>\n",
       "      <td>Plot Attribute (Montage)</td>\n",
       "      <td>Did the last person in the video open the bott...</td>\n",
       "      <td>8.85</td>\n",
       "      <td>Please state your answer with a brief explanat...</td>\n",
       "      <td></td>\n",
       "      <td>https://www.youtube.com/shorts/sj81PWrerDk</td>\n",
       "    </tr>\n",
       "    <tr>\n",
       "      <th>4</th>\n",
       "      <td>0008-7</td>\n",
       "      <td>sj81PWrerDk</td>\n",
       "      <td>Multiple-choice Question with a Single Correct...</td>\n",
       "      <td>Plot Attribute (Montage)</td>\n",
       "      <td>How does the last person in the video open the...</td>\n",
       "      <td>8.85</td>\n",
       "      <td>E. None of the above\\nSelect one best answer t...</td>\n",
       "      <td></td>\n",
       "      <td>https://www.youtube.com/shorts/sj81PWrerDk</td>\n",
       "    </tr>\n",
       "  </tbody>\n",
       "</table>\n",
       "</div>"
      ],
      "text/plain": [
       "      qid     video_id                                      question_type  \\\n",
       "0  0008-0  sj81PWrerDk                        Primary Open-ended Question   \n",
       "1  0008-1  sj81PWrerDk                    Paraphrased Open-ended Question   \n",
       "2  0008-2  sj81PWrerDk                  Correctly-led Open-ended Question   \n",
       "3  0008-3  sj81PWrerDk                    Wrongly-led Open-ended Question   \n",
       "4  0008-7  sj81PWrerDk  Multiple-choice Question with a Single Correct...   \n",
       "\n",
       "                 capability  \\\n",
       "0  Plot Attribute (Montage)   \n",
       "1  Plot Attribute (Montage)   \n",
       "2  Plot Attribute (Montage)   \n",
       "3  Plot Attribute (Montage)   \n",
       "4  Plot Attribute (Montage)   \n",
       "\n",
       "                                            question duration  \\\n",
       "0  What is the difference between the action of t...     8.85   \n",
       "1  Can you describe how the actions of the last p...     8.85   \n",
       "2  Did the last person open the bottle without us...     8.85   \n",
       "3  Did the last person in the video open the bott...     8.85   \n",
       "4  How does the last person in the video open the...     8.85   \n",
       "\n",
       "                                     question_prompt answer  \\\n",
       "0  Please state your answer with a brief explanat...          \n",
       "1  Please state your answer with a brief explanat...          \n",
       "2  Please state your answer with a brief explanat...          \n",
       "3  Please state your answer with a brief explanat...          \n",
       "4  E. None of the above\\nSelect one best answer t...          \n",
       "\n",
       "                                  youtube_url  \n",
       "0  https://www.youtube.com/shorts/sj81PWrerDk  \n",
       "1  https://www.youtube.com/shorts/sj81PWrerDk  \n",
       "2  https://www.youtube.com/shorts/sj81PWrerDk  \n",
       "3  https://www.youtube.com/shorts/sj81PWrerDk  \n",
       "4  https://www.youtube.com/shorts/sj81PWrerDk  "
      ]
     },
     "execution_count": 4,
     "metadata": {},
     "output_type": "execute_result"
    }
   ],
   "source": [
    "df.head()"
   ]
  },
  {
   "cell_type": "code",
   "execution_count": null,
   "metadata": {},
   "outputs": [],
   "source": [
    "whisper_model = whisper.load_model(\"large-v3\")\n",
    "blip_processor = BlipProcessor.from_pretrained(\"Salesforce/blip-image-captioning-large\")\n",
    "blip_model = BlipForConditionalGeneration.from_pretrained(\"Salesforce/blip-image-captioning-large\")"
   ]
  },
  {
   "cell_type": "code",
   "execution_count": 4,
   "metadata": {},
   "outputs": [
    {
     "name": "stdout",
     "output_type": "stream",
     "text": [
      "Total unique videos: 292\n"
     ]
    }
   ],
   "source": [
    "unique_videos = df[[\"video_id\", \"youtube_url\"]].drop_duplicates()\n",
    "print(f\"Total unique videos: {len(unique_videos)}\")"
   ]
  },
  {
   "cell_type": "code",
   "execution_count": 10,
   "metadata": {},
   "outputs": [
    {
     "name": "stdout",
     "output_type": "stream",
     "text": [
      "[youtube] Extracting URL: https://www.youtube.com/shorts/sj81PWrerDk\n",
      "[youtube] sj81PWrerDk: Downloading webpage\n",
      "[youtube] sj81PWrerDk: Downloading tv client config\n",
      "[youtube] sj81PWrerDk: Downloading player 6b3caec8\n",
      "[youtube] sj81PWrerDk: Downloading tv player API JSON\n",
      "[youtube] sj81PWrerDk: Downloading ios player API JSON\n",
      "[youtube] sj81PWrerDk: Downloading m3u8 information\n",
      "[info] sj81PWrerDk: Downloading 1 format(s): 616+251\n",
      "[hlsnative] Downloading m3u8 manifest\n",
      "[hlsnative] Total fragments: 2\n",
      "[download] Destination: videos/sj81PWrerDk.f616.mp4\n"
     ]
    },
    {
     "name": "stderr",
     "output_type": "stream",
     "text": [
      "WARNING: You have requested merging of multiple formats but ffmpeg is not installed. The formats won't be merged\n"
     ]
    },
    {
     "name": "stdout",
     "output_type": "stream",
     "text": [
      "[download] 100% of    3.05MiB in 00:00:02 at 1.38MiB/s               \n",
      "[download] Destination: videos/sj81PWrerDk.f251.webm\n",
      "[download] 100% of  130.24KiB in 00:00:00 at 2.30MiB/s     \n",
      "Downloaded: videos/sj81PWrerDk.mp4\n",
      "[youtube] Extracting URL: https://www.youtube.com/shorts/AGCyLqLuUJ0\n",
      "[youtube] AGCyLqLuUJ0: Downloading webpage\n",
      "[youtube] AGCyLqLuUJ0: Downloading tv client config\n",
      "[youtube] AGCyLqLuUJ0: Downloading player 6b3caec8\n",
      "[youtube] AGCyLqLuUJ0: Downloading tv player API JSON\n",
      "[youtube] AGCyLqLuUJ0: Downloading ios player API JSON\n",
      "Error downloading AGCyLqLuUJ0: Command 'yt-dlp -f bestvideo+bestaudio --merge-output-format mp4 \"https://www.youtube.com/shorts/AGCyLqLuUJ0\" -o \"videos/AGCyLqLuUJ0.mp4\"' returned non-zero exit status 1.\n"
     ]
    },
    {
     "name": "stderr",
     "output_type": "stream",
     "text": [
      "ERROR: [youtube] AGCyLqLuUJ0: Video unavailable. This video is no longer available because the YouTube account associated with this video has been terminated.\n"
     ]
    },
    {
     "name": "stdout",
     "output_type": "stream",
     "text": [
      "[youtube] Extracting URL: https://www.youtube.com/shorts/4mKxze5P9gQ\n",
      "[youtube] 4mKxze5P9gQ: Downloading webpage\n",
      "[youtube] 4mKxze5P9gQ: Downloading tv client config\n",
      "[youtube] 4mKxze5P9gQ: Downloading player 6b3caec8\n",
      "[youtube] 4mKxze5P9gQ: Downloading tv player API JSON\n",
      "[youtube] 4mKxze5P9gQ: Downloading ios player API JSON\n",
      "[youtube] 4mKxze5P9gQ: Downloading m3u8 information\n",
      "[info] 4mKxze5P9gQ: Downloading 1 format(s): 247+251\n"
     ]
    },
    {
     "name": "stderr",
     "output_type": "stream",
     "text": [
      "WARNING: You have requested merging of multiple formats but ffmpeg is not installed. The formats won't be merged\n"
     ]
    },
    {
     "name": "stdout",
     "output_type": "stream",
     "text": [
      "[download] Destination: videos/4mKxze5P9gQ.f247.webm\n",
      "[download] 100% of  193.94KiB in 00:00:00 at 1.34MiB/s     \n",
      "[download] Destination: videos/4mKxze5P9gQ.f251.webm\n",
      "[download] 100% of  241.05KiB in 00:00:01 at 152.32KiB/s   \n",
      "Downloaded: videos/4mKxze5P9gQ.mp4\n",
      "[youtube] Extracting URL: https://www.youtube.com/shorts/1SiTuYb506o\n",
      "[youtube] 1SiTuYb506o: Downloading webpage\n"
     ]
    },
    {
     "name": "stderr",
     "output_type": "stream",
     "text": [
      "\n",
      "ERROR: Interrupted by user\n"
     ]
    },
    {
     "ename": "KeyboardInterrupt",
     "evalue": "",
     "output_type": "error",
     "traceback": [
      "\u001b[31m---------------------------------------------------------------------------\u001b[39m",
      "\u001b[31mKeyboardInterrupt\u001b[39m                         Traceback (most recent call last)",
      "\u001b[36mCell\u001b[39m\u001b[36m \u001b[39m\u001b[32mIn[10]\u001b[39m\u001b[32m, line 23\u001b[39m\n\u001b[32m     21\u001b[39m \u001b[38;5;66;03m# Process full dataset, handling errors\u001b[39;00m\n\u001b[32m     22\u001b[39m \u001b[38;5;28;01mfor\u001b[39;00m i, row \u001b[38;5;129;01min\u001b[39;00m unique_videos.iterrows():\n\u001b[32m---> \u001b[39m\u001b[32m23\u001b[39m     \u001b[43mdownload_video\u001b[49m\u001b[43m(\u001b[49m\u001b[43mrow\u001b[49m\u001b[43m[\u001b[49m\u001b[33;43m\"\u001b[39;49m\u001b[33;43mvideo_id\u001b[39;49m\u001b[33;43m\"\u001b[39;49m\u001b[43m]\u001b[49m\u001b[43m,\u001b[49m\u001b[43m \u001b[49m\u001b[43mrow\u001b[49m\u001b[43m[\u001b[49m\u001b[33;43m\"\u001b[39;49m\u001b[33;43myoutube_url\u001b[39;49m\u001b[33;43m\"\u001b[39;49m\u001b[43m]\u001b[49m\u001b[43m)\u001b[49m\n",
      "\u001b[36mCell\u001b[39m\u001b[36m \u001b[39m\u001b[32mIn[10]\u001b[39m\u001b[32m, line 11\u001b[39m, in \u001b[36mdownload_video\u001b[39m\u001b[34m(video_id, youtube_url)\u001b[39m\n\u001b[32m      9\u001b[39m \u001b[38;5;28;01mtry\u001b[39;00m:\n\u001b[32m     10\u001b[39m     command = \u001b[33mf\u001b[39m\u001b[33m'\u001b[39m\u001b[33myt-dlp -f bestvideo+bestaudio --merge-output-format mp4 \u001b[39m\u001b[33m\"\u001b[39m\u001b[38;5;132;01m{\u001b[39;00myoutube_url\u001b[38;5;132;01m}\u001b[39;00m\u001b[33m\"\u001b[39m\u001b[33m -o \u001b[39m\u001b[33m\"\u001b[39m\u001b[38;5;132;01m{\u001b[39;00mvideo_path\u001b[38;5;132;01m}\u001b[39;00m\u001b[33m\"\u001b[39m\u001b[33m'\u001b[39m\n\u001b[32m---> \u001b[39m\u001b[32m11\u001b[39m     \u001b[43msubprocess\u001b[49m\u001b[43m.\u001b[49m\u001b[43mrun\u001b[49m\u001b[43m(\u001b[49m\u001b[43mcommand\u001b[49m\u001b[43m,\u001b[49m\u001b[43m \u001b[49m\u001b[43mshell\u001b[49m\u001b[43m=\u001b[49m\u001b[38;5;28;43;01mTrue\u001b[39;49;00m\u001b[43m,\u001b[49m\u001b[43m \u001b[49m\u001b[43mcheck\u001b[49m\u001b[43m=\u001b[49m\u001b[38;5;28;43;01mTrue\u001b[39;49;00m\u001b[43m)\u001b[49m\n\u001b[32m     12\u001b[39m     \u001b[38;5;28mprint\u001b[39m(\u001b[33mf\u001b[39m\u001b[33m\"\u001b[39m\u001b[33mDownloaded: \u001b[39m\u001b[38;5;132;01m{\u001b[39;00mvideo_path\u001b[38;5;132;01m}\u001b[39;00m\u001b[33m\"\u001b[39m)\n\u001b[32m     13\u001b[39m \u001b[38;5;28;01mexcept\u001b[39;00m subprocess.CalledProcessError \u001b[38;5;28;01mas\u001b[39;00m e:\n",
      "\u001b[36mFile \u001b[39m\u001b[32m/Library/Frameworks/Python.framework/Versions/3.12/lib/python3.12/subprocess.py:550\u001b[39m, in \u001b[36mrun\u001b[39m\u001b[34m(input, capture_output, timeout, check, *popenargs, **kwargs)\u001b[39m\n\u001b[32m    548\u001b[39m \u001b[38;5;28;01mwith\u001b[39;00m Popen(*popenargs, **kwargs) \u001b[38;5;28;01mas\u001b[39;00m process:\n\u001b[32m    549\u001b[39m     \u001b[38;5;28;01mtry\u001b[39;00m:\n\u001b[32m--> \u001b[39m\u001b[32m550\u001b[39m         stdout, stderr = \u001b[43mprocess\u001b[49m\u001b[43m.\u001b[49m\u001b[43mcommunicate\u001b[49m\u001b[43m(\u001b[49m\u001b[38;5;28;43minput\u001b[39;49m\u001b[43m,\u001b[49m\u001b[43m \u001b[49m\u001b[43mtimeout\u001b[49m\u001b[43m=\u001b[49m\u001b[43mtimeout\u001b[49m\u001b[43m)\u001b[49m\n\u001b[32m    551\u001b[39m     \u001b[38;5;28;01mexcept\u001b[39;00m TimeoutExpired \u001b[38;5;28;01mas\u001b[39;00m exc:\n\u001b[32m    552\u001b[39m         process.kill()\n",
      "\u001b[36mFile \u001b[39m\u001b[32m/Library/Frameworks/Python.framework/Versions/3.12/lib/python3.12/subprocess.py:1201\u001b[39m, in \u001b[36mPopen.communicate\u001b[39m\u001b[34m(self, input, timeout)\u001b[39m\n\u001b[32m   1199\u001b[39m         stderr = \u001b[38;5;28mself\u001b[39m.stderr.read()\n\u001b[32m   1200\u001b[39m         \u001b[38;5;28mself\u001b[39m.stderr.close()\n\u001b[32m-> \u001b[39m\u001b[32m1201\u001b[39m     \u001b[38;5;28;43mself\u001b[39;49m\u001b[43m.\u001b[49m\u001b[43mwait\u001b[49m\u001b[43m(\u001b[49m\u001b[43m)\u001b[49m\n\u001b[32m   1202\u001b[39m \u001b[38;5;28;01melse\u001b[39;00m:\n\u001b[32m   1203\u001b[39m     \u001b[38;5;28;01mif\u001b[39;00m timeout \u001b[38;5;129;01mis\u001b[39;00m \u001b[38;5;129;01mnot\u001b[39;00m \u001b[38;5;28;01mNone\u001b[39;00m:\n",
      "\u001b[36mFile \u001b[39m\u001b[32m/Library/Frameworks/Python.framework/Versions/3.12/lib/python3.12/subprocess.py:1264\u001b[39m, in \u001b[36mPopen.wait\u001b[39m\u001b[34m(self, timeout)\u001b[39m\n\u001b[32m   1262\u001b[39m     endtime = _time() + timeout\n\u001b[32m   1263\u001b[39m \u001b[38;5;28;01mtry\u001b[39;00m:\n\u001b[32m-> \u001b[39m\u001b[32m1264\u001b[39m     \u001b[38;5;28;01mreturn\u001b[39;00m \u001b[38;5;28;43mself\u001b[39;49m\u001b[43m.\u001b[49m\u001b[43m_wait\u001b[49m\u001b[43m(\u001b[49m\u001b[43mtimeout\u001b[49m\u001b[43m=\u001b[49m\u001b[43mtimeout\u001b[49m\u001b[43m)\u001b[49m\n\u001b[32m   1265\u001b[39m \u001b[38;5;28;01mexcept\u001b[39;00m \u001b[38;5;167;01mKeyboardInterrupt\u001b[39;00m:\n\u001b[32m   1266\u001b[39m     \u001b[38;5;66;03m# https://bugs.python.org/issue25942\u001b[39;00m\n\u001b[32m   1267\u001b[39m     \u001b[38;5;66;03m# The first keyboard interrupt waits briefly for the child to\u001b[39;00m\n\u001b[32m   1268\u001b[39m     \u001b[38;5;66;03m# exit under the common assumption that it also received the ^C\u001b[39;00m\n\u001b[32m   1269\u001b[39m     \u001b[38;5;66;03m# generated SIGINT and will exit rapidly.\u001b[39;00m\n\u001b[32m   1270\u001b[39m     \u001b[38;5;28;01mif\u001b[39;00m timeout \u001b[38;5;129;01mis\u001b[39;00m \u001b[38;5;129;01mnot\u001b[39;00m \u001b[38;5;28;01mNone\u001b[39;00m:\n",
      "\u001b[36mFile \u001b[39m\u001b[32m/Library/Frameworks/Python.framework/Versions/3.12/lib/python3.12/subprocess.py:2053\u001b[39m, in \u001b[36mPopen._wait\u001b[39m\u001b[34m(self, timeout)\u001b[39m\n\u001b[32m   2051\u001b[39m \u001b[38;5;28;01mif\u001b[39;00m \u001b[38;5;28mself\u001b[39m.returncode \u001b[38;5;129;01mis\u001b[39;00m \u001b[38;5;129;01mnot\u001b[39;00m \u001b[38;5;28;01mNone\u001b[39;00m:\n\u001b[32m   2052\u001b[39m     \u001b[38;5;28;01mbreak\u001b[39;00m  \u001b[38;5;66;03m# Another thread waited.\u001b[39;00m\n\u001b[32m-> \u001b[39m\u001b[32m2053\u001b[39m (pid, sts) = \u001b[38;5;28;43mself\u001b[39;49m\u001b[43m.\u001b[49m\u001b[43m_try_wait\u001b[49m\u001b[43m(\u001b[49m\u001b[32;43m0\u001b[39;49m\u001b[43m)\u001b[49m\n\u001b[32m   2054\u001b[39m \u001b[38;5;66;03m# Check the pid and loop as waitpid has been known to\u001b[39;00m\n\u001b[32m   2055\u001b[39m \u001b[38;5;66;03m# return 0 even without WNOHANG in odd situations.\u001b[39;00m\n\u001b[32m   2056\u001b[39m \u001b[38;5;66;03m# http://bugs.python.org/issue14396.\u001b[39;00m\n\u001b[32m   2057\u001b[39m \u001b[38;5;28;01mif\u001b[39;00m pid == \u001b[38;5;28mself\u001b[39m.pid:\n",
      "\u001b[36mFile \u001b[39m\u001b[32m/Library/Frameworks/Python.framework/Versions/3.12/lib/python3.12/subprocess.py:2011\u001b[39m, in \u001b[36mPopen._try_wait\u001b[39m\u001b[34m(self, wait_flags)\u001b[39m\n\u001b[32m   2009\u001b[39m \u001b[38;5;250m\u001b[39m\u001b[33;03m\"\"\"All callers to this function MUST hold self._waitpid_lock.\"\"\"\u001b[39;00m\n\u001b[32m   2010\u001b[39m \u001b[38;5;28;01mtry\u001b[39;00m:\n\u001b[32m-> \u001b[39m\u001b[32m2011\u001b[39m     (pid, sts) = \u001b[43mos\u001b[49m\u001b[43m.\u001b[49m\u001b[43mwaitpid\u001b[49m\u001b[43m(\u001b[49m\u001b[38;5;28;43mself\u001b[39;49m\u001b[43m.\u001b[49m\u001b[43mpid\u001b[49m\u001b[43m,\u001b[49m\u001b[43m \u001b[49m\u001b[43mwait_flags\u001b[49m\u001b[43m)\u001b[49m\n\u001b[32m   2012\u001b[39m \u001b[38;5;28;01mexcept\u001b[39;00m \u001b[38;5;167;01mChildProcessError\u001b[39;00m:\n\u001b[32m   2013\u001b[39m     \u001b[38;5;66;03m# This happens if SIGCLD is set to be ignored or waiting\u001b[39;00m\n\u001b[32m   2014\u001b[39m     \u001b[38;5;66;03m# for child processes has otherwise been disabled for our\u001b[39;00m\n\u001b[32m   2015\u001b[39m     \u001b[38;5;66;03m# process.  This child is dead, we can't get the status.\u001b[39;00m\n\u001b[32m   2016\u001b[39m     pid = \u001b[38;5;28mself\u001b[39m.pid\n",
      "\u001b[31mKeyboardInterrupt\u001b[39m: "
     ]
    }
   ],
   "source": [
    "def download_video(video_id, youtube_url):\n",
    "    video_path = f\"videos/{video_id}.mp4\"\n",
    "    \n",
    "    # Skip if already downloaded\n",
    "    if os.path.exists(video_path):\n",
    "        print(f\"Skipping {video_id}, already downloaded.\")\n",
    "        return video_path\n",
    "\n",
    "    try:\n",
    "        command = f'yt-dlp -f bestvideo+bestaudio --merge-output-format mp4 \"{youtube_url}\" -o \"{video_path}\"'\n",
    "        subprocess.run(command, shell=True, check=True)\n",
    "        print(f\"Downloaded: {video_path}\")\n",
    "    except subprocess.CalledProcessError as e:\n",
    "        print(f\"Error downloading {video_id}: {e}\")\n",
    "        with open(\"download_errors.log\", \"a\") as f:\n",
    "            f.write(f\"{video_id},{youtube_url}\\n\")\n",
    "        time.sleep(5)  # Wait before retrying the next video\n",
    "    \n",
    "    return video_path\n",
    "\n",
    "# Process full dataset, handling errors\n",
    "for i, row in unique_videos.iterrows():\n",
    "    download_video(row[\"video_id\"], row[\"youtube_url\"])"
   ]
  },
  {
   "cell_type": "code",
   "execution_count": 6,
   "metadata": {},
   "outputs": [
    {
     "name": "stdout",
     "output_type": "stream",
     "text": [
      "[youtube] Extracting URL: https://www.youtube.com/shorts/sj81PWrerDk\n",
      "[youtube] sj81PWrerDk: Downloading webpage\n",
      "[youtube] sj81PWrerDk: Downloading tv client config\n",
      "[youtube] sj81PWrerDk: Downloading player 6b3caec8\n",
      "[youtube] sj81PWrerDk: Downloading tv player API JSON\n",
      "[youtube] sj81PWrerDk: Downloading ios player API JSON\n",
      "[youtube] sj81PWrerDk: Downloading m3u8 information\n",
      "[info] sj81PWrerDk: Downloading 1 format(s): 616+251\n",
      "[hlsnative] Downloading m3u8 manifest\n",
      "[hlsnative] Total fragments: 2\n",
      "[download] Destination: videos/sj81PWrerDk.f616.mp4\n"
     ]
    },
    {
     "name": "stderr",
     "output_type": "stream",
     "text": [
      "WARNING: You have requested merging of multiple formats but ffmpeg is not installed. The formats won't be merged\n"
     ]
    },
    {
     "name": "stdout",
     "output_type": "stream",
     "text": [
      "[download] 100% of    3.05MiB in 00:00:02 at 1.16MiB/s                 \n",
      "[download] Destination: videos/sj81PWrerDk.f251.webm\n",
      "[download] 100% of  130.24KiB in 00:00:00 at 1.03MiB/s   \n",
      "[youtube] Extracting URL: https://www.youtube.com/shorts/AGCyLqLuUJ0\n",
      "[youtube] AGCyLqLuUJ0: Downloading webpage\n",
      "[youtube] AGCyLqLuUJ0: Downloading tv client config\n",
      "[youtube] AGCyLqLuUJ0: Downloading player 6b3caec8\n",
      "[youtube] AGCyLqLuUJ0: Downloading tv player API JSON\n",
      "[youtube] AGCyLqLuUJ0: Downloading ios player API JSON\n"
     ]
    },
    {
     "name": "stderr",
     "output_type": "stream",
     "text": [
      "ERROR: [youtube] AGCyLqLuUJ0: Video unavailable. This video is no longer available because the YouTube account associated with this video has been terminated.\n"
     ]
    },
    {
     "ename": "CalledProcessError",
     "evalue": "Command 'yt-dlp -f bestvideo+bestaudio --merge-output-format mp4 https://www.youtube.com/shorts/AGCyLqLuUJ0 -o videos/AGCyLqLuUJ0.mp4' returned non-zero exit status 1.",
     "output_type": "error",
     "traceback": [
      "\u001b[31m---------------------------------------------------------------------------\u001b[39m",
      "\u001b[31mCalledProcessError\u001b[39m                        Traceback (most recent call last)",
      "\u001b[36mCell\u001b[39m\u001b[36m \u001b[39m\u001b[32mIn[6]\u001b[39m\u001b[32m, line 2\u001b[39m\n\u001b[32m      1\u001b[39m \u001b[38;5;28;01mfor\u001b[39;00m i, row \u001b[38;5;129;01min\u001b[39;00m unique_videos.iterrows():\n\u001b[32m----> \u001b[39m\u001b[32m2\u001b[39m     \u001b[43mdownload_video\u001b[49m\u001b[43m(\u001b[49m\u001b[43mrow\u001b[49m\u001b[43m[\u001b[49m\u001b[33;43m\"\u001b[39;49m\u001b[33;43mvideo_id\u001b[39;49m\u001b[33;43m\"\u001b[39;49m\u001b[43m]\u001b[49m\u001b[43m,\u001b[49m\u001b[43m \u001b[49m\u001b[43mrow\u001b[49m\u001b[43m[\u001b[49m\u001b[33;43m\"\u001b[39;49m\u001b[33;43myoutube_url\u001b[39;49m\u001b[33;43m\"\u001b[39;49m\u001b[43m]\u001b[49m\u001b[43m)\u001b[49m\n",
      "\u001b[36mCell\u001b[39m\u001b[36m \u001b[39m\u001b[32mIn[5]\u001b[39m\u001b[32m, line 4\u001b[39m, in \u001b[36mdownload_video\u001b[39m\u001b[34m(video_id, youtube_url)\u001b[39m\n\u001b[32m      2\u001b[39m video_path = \u001b[33mf\u001b[39m\u001b[33m\"\u001b[39m\u001b[33mvideos/\u001b[39m\u001b[38;5;132;01m{\u001b[39;00mvideo_id\u001b[38;5;132;01m}\u001b[39;00m\u001b[33m.mp4\u001b[39m\u001b[33m\"\u001b[39m\n\u001b[32m      3\u001b[39m command = \u001b[33mf\u001b[39m\u001b[33m\"\u001b[39m\u001b[33myt-dlp -f bestvideo+bestaudio --merge-output-format mp4 \u001b[39m\u001b[38;5;132;01m{\u001b[39;00myoutube_url\u001b[38;5;132;01m}\u001b[39;00m\u001b[33m -o \u001b[39m\u001b[38;5;132;01m{\u001b[39;00mvideo_path\u001b[38;5;132;01m}\u001b[39;00m\u001b[33m\"\u001b[39m\n\u001b[32m----> \u001b[39m\u001b[32m4\u001b[39m \u001b[43msubprocess\u001b[49m\u001b[43m.\u001b[49m\u001b[43mrun\u001b[49m\u001b[43m(\u001b[49m\u001b[43mcommand\u001b[49m\u001b[43m,\u001b[49m\u001b[43m \u001b[49m\u001b[43mshell\u001b[49m\u001b[43m=\u001b[49m\u001b[38;5;28;43;01mTrue\u001b[39;49;00m\u001b[43m,\u001b[49m\u001b[43m \u001b[49m\u001b[43mcheck\u001b[49m\u001b[43m=\u001b[49m\u001b[38;5;28;43;01mTrue\u001b[39;49;00m\u001b[43m)\u001b[49m\n\u001b[32m      5\u001b[39m \u001b[38;5;28;01mreturn\u001b[39;00m video_path\n",
      "\u001b[36mFile \u001b[39m\u001b[32m/Library/Frameworks/Python.framework/Versions/3.12/lib/python3.12/subprocess.py:571\u001b[39m, in \u001b[36mrun\u001b[39m\u001b[34m(input, capture_output, timeout, check, *popenargs, **kwargs)\u001b[39m\n\u001b[32m    569\u001b[39m     retcode = process.poll()\n\u001b[32m    570\u001b[39m     \u001b[38;5;28;01mif\u001b[39;00m check \u001b[38;5;129;01mand\u001b[39;00m retcode:\n\u001b[32m--> \u001b[39m\u001b[32m571\u001b[39m         \u001b[38;5;28;01mraise\u001b[39;00m CalledProcessError(retcode, process.args,\n\u001b[32m    572\u001b[39m                                  output=stdout, stderr=stderr)\n\u001b[32m    573\u001b[39m \u001b[38;5;28;01mreturn\u001b[39;00m CompletedProcess(process.args, retcode, stdout, stderr)\n",
      "\u001b[31mCalledProcessError\u001b[39m: Command 'yt-dlp -f bestvideo+bestaudio --merge-output-format mp4 https://www.youtube.com/shorts/AGCyLqLuUJ0 -o videos/AGCyLqLuUJ0.mp4' returned non-zero exit status 1."
     ]
    }
   ],
   "source": [
    "for i, row in unique_videos.iterrows():\n",
    "    download_video(row[\"video_id\"], row[\"youtube_url\"])"
   ]
  }
 ],
 "metadata": {
  "kernelspec": {
   "display_name": "venv",
   "language": "python",
   "name": "python3"
  },
  "language_info": {
   "codemirror_mode": {
    "name": "ipython",
    "version": 3
   },
   "file_extension": ".py",
   "mimetype": "text/x-python",
   "name": "python",
   "nbconvert_exporter": "python",
   "pygments_lexer": "ipython3",
   "version": "3.12.4"
  }
 },
 "nbformat": 4,
 "nbformat_minor": 2
}
